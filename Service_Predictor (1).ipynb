{
  "cells": [
    {
      "cell_type": "markdown",
      "id": "b2e8100b",
      "metadata": {
        "id": "b2e8100b"
      },
      "source": [
        "\n",
        "# Service Recommendation Predictor\n",
        "\n",
        "After we clustered our data:\n",
        "\n",
        "https://github.com/Jesslga/SIADS-Milestone-II-Group-19/blob/main/Clustering_Pipeline.ipynb\n",
        "\n",
        "We manually classified a small subset of training data with services that we felt would be the most relevant to each company:\n",
        "\n",
        "https://github.com/Jesslga/SIADS-Milestone-II-Group-19/blob/main/classified_companies_with_pca.csv\n",
        "\n",
        "\n",
        "We will use that combination of clustering produced from our unsupervised model to predicti recommended services for companies using multi-label classification using Random Forests.\n"
      ]
    },
    {
      "cell_type": "code",
      "execution_count": 1,
      "id": "6b1f934a",
      "metadata": {
        "id": "6b1f934a"
      },
      "outputs": [],
      "source": [
        "# Lets import the necessary libraries\n",
        "\n",
        "import pandas as pd\n",
        "import numpy as np\n",
        "import ast\n",
        "from sklearn.model_selection import train_test_split\n",
        "from sklearn.preprocessing import MultiLabelBinarizer\n",
        "from sklearn.ensemble import RandomForestClassifier\n",
        "from sklearn.multiclass import OneVsRestClassifier\n",
        "from sklearn.metrics import classification_report, hamming_loss, accuracy_score, f1_score"
      ]
    },
    {
      "cell_type": "markdown",
      "id": "2e34559f",
      "metadata": {
        "id": "2e34559f"
      },
      "source": [
        "## Load and Prepare Data\n",
        "\n",
        "First lets load our data from github and prepare the \"recomendation\" column, which contains service suggestions in a dictionary.\n",
        "\n",
        "We apply a function to convert string representations of Python objects back into actual Python objects, ensuring  each recommendation is properly parsed.\n",
        "\n",
        "We then define a helper function to extract simplified tags from nested recommendation structures. Doing this allows us to represent complex service suggestions in a more model friendly format."
      ]
    },
    {
      "cell_type": "code",
      "execution_count": 2,
      "id": "ef5ea612",
      "metadata": {
        "colab": {
          "base_uri": "https://localhost:8080/",
          "height": 206
        },
        "id": "ef5ea612",
        "outputId": "15b10966-0303-49a3-bd03-9154b22a0595"
      },
      "outputs": [
        {
          "output_type": "execute_result",
          "data": {
            "text/plain": [
              "                     name  cluster_y  \\\n",
              "0                     tmz          0   \n",
              "1         morley builders          0   \n",
              "2  chilton medical center          0   \n",
              "3               hireright          0   \n",
              "4                   ormco          0   \n",
              "\n",
              "                                        service_tags  \n",
              "0  [AI-Powered Insight Engines::Workflow Automati...  \n",
              "1  [Digital Infrastructure Audit::Assessment & St...  \n",
              "2  [Digital Infrastructure Audit::Assessment & St...  \n",
              "3  [Customer Interaction Automation::Workflow Aut...  \n",
              "4  [Cloud Migration & Scalability::Digital Upgrad...  "
            ],
            "text/html": [
              "\n",
              "  <div id=\"df-07e33017-4705-4961-bea1-cdaeb6b9e4e7\" class=\"colab-df-container\">\n",
              "    <div>\n",
              "<style scoped>\n",
              "    .dataframe tbody tr th:only-of-type {\n",
              "        vertical-align: middle;\n",
              "    }\n",
              "\n",
              "    .dataframe tbody tr th {\n",
              "        vertical-align: top;\n",
              "    }\n",
              "\n",
              "    .dataframe thead th {\n",
              "        text-align: right;\n",
              "    }\n",
              "</style>\n",
              "<table border=\"1\" class=\"dataframe\">\n",
              "  <thead>\n",
              "    <tr style=\"text-align: right;\">\n",
              "      <th></th>\n",
              "      <th>name</th>\n",
              "      <th>cluster_y</th>\n",
              "      <th>service_tags</th>\n",
              "    </tr>\n",
              "  </thead>\n",
              "  <tbody>\n",
              "    <tr>\n",
              "      <th>0</th>\n",
              "      <td>tmz</td>\n",
              "      <td>0</td>\n",
              "      <td>[AI-Powered Insight Engines::Workflow Automati...</td>\n",
              "    </tr>\n",
              "    <tr>\n",
              "      <th>1</th>\n",
              "      <td>morley builders</td>\n",
              "      <td>0</td>\n",
              "      <td>[Digital Infrastructure Audit::Assessment &amp; St...</td>\n",
              "    </tr>\n",
              "    <tr>\n",
              "      <th>2</th>\n",
              "      <td>chilton medical center</td>\n",
              "      <td>0</td>\n",
              "      <td>[Digital Infrastructure Audit::Assessment &amp; St...</td>\n",
              "    </tr>\n",
              "    <tr>\n",
              "      <th>3</th>\n",
              "      <td>hireright</td>\n",
              "      <td>0</td>\n",
              "      <td>[Customer Interaction Automation::Workflow Aut...</td>\n",
              "    </tr>\n",
              "    <tr>\n",
              "      <th>4</th>\n",
              "      <td>ormco</td>\n",
              "      <td>0</td>\n",
              "      <td>[Cloud Migration &amp; Scalability::Digital Upgrad...</td>\n",
              "    </tr>\n",
              "  </tbody>\n",
              "</table>\n",
              "</div>\n",
              "    <div class=\"colab-df-buttons\">\n",
              "\n",
              "  <div class=\"colab-df-container\">\n",
              "    <button class=\"colab-df-convert\" onclick=\"convertToInteractive('df-07e33017-4705-4961-bea1-cdaeb6b9e4e7')\"\n",
              "            title=\"Convert this dataframe to an interactive table.\"\n",
              "            style=\"display:none;\">\n",
              "\n",
              "  <svg xmlns=\"http://www.w3.org/2000/svg\" height=\"24px\" viewBox=\"0 -960 960 960\">\n",
              "    <path d=\"M120-120v-720h720v720H120Zm60-500h600v-160H180v160Zm220 220h160v-160H400v160Zm0 220h160v-160H400v160ZM180-400h160v-160H180v160Zm440 0h160v-160H620v160ZM180-180h160v-160H180v160Zm440 0h160v-160H620v160Z\"/>\n",
              "  </svg>\n",
              "    </button>\n",
              "\n",
              "  <style>\n",
              "    .colab-df-container {\n",
              "      display:flex;\n",
              "      gap: 12px;\n",
              "    }\n",
              "\n",
              "    .colab-df-convert {\n",
              "      background-color: #E8F0FE;\n",
              "      border: none;\n",
              "      border-radius: 50%;\n",
              "      cursor: pointer;\n",
              "      display: none;\n",
              "      fill: #1967D2;\n",
              "      height: 32px;\n",
              "      padding: 0 0 0 0;\n",
              "      width: 32px;\n",
              "    }\n",
              "\n",
              "    .colab-df-convert:hover {\n",
              "      background-color: #E2EBFA;\n",
              "      box-shadow: 0px 1px 2px rgba(60, 64, 67, 0.3), 0px 1px 3px 1px rgba(60, 64, 67, 0.15);\n",
              "      fill: #174EA6;\n",
              "    }\n",
              "\n",
              "    .colab-df-buttons div {\n",
              "      margin-bottom: 4px;\n",
              "    }\n",
              "\n",
              "    [theme=dark] .colab-df-convert {\n",
              "      background-color: #3B4455;\n",
              "      fill: #D2E3FC;\n",
              "    }\n",
              "\n",
              "    [theme=dark] .colab-df-convert:hover {\n",
              "      background-color: #434B5C;\n",
              "      box-shadow: 0px 1px 3px 1px rgba(0, 0, 0, 0.15);\n",
              "      filter: drop-shadow(0px 1px 2px rgba(0, 0, 0, 0.3));\n",
              "      fill: #FFFFFF;\n",
              "    }\n",
              "  </style>\n",
              "\n",
              "    <script>\n",
              "      const buttonEl =\n",
              "        document.querySelector('#df-07e33017-4705-4961-bea1-cdaeb6b9e4e7 button.colab-df-convert');\n",
              "      buttonEl.style.display =\n",
              "        google.colab.kernel.accessAllowed ? 'block' : 'none';\n",
              "\n",
              "      async function convertToInteractive(key) {\n",
              "        const element = document.querySelector('#df-07e33017-4705-4961-bea1-cdaeb6b9e4e7');\n",
              "        const dataTable =\n",
              "          await google.colab.kernel.invokeFunction('convertToInteractive',\n",
              "                                                    [key], {});\n",
              "        if (!dataTable) return;\n",
              "\n",
              "        const docLinkHtml = 'Like what you see? Visit the ' +\n",
              "          '<a target=\"_blank\" href=https://colab.research.google.com/notebooks/data_table.ipynb>data table notebook</a>'\n",
              "          + ' to learn more about interactive tables.';\n",
              "        element.innerHTML = '';\n",
              "        dataTable['output_type'] = 'display_data';\n",
              "        await google.colab.output.renderOutput(dataTable, element);\n",
              "        const docLink = document.createElement('div');\n",
              "        docLink.innerHTML = docLinkHtml;\n",
              "        element.appendChild(docLink);\n",
              "      }\n",
              "    </script>\n",
              "  </div>\n",
              "\n",
              "\n",
              "    <div id=\"df-0ef40828-5c4e-4acb-9024-7824a6ccd58a\">\n",
              "      <button class=\"colab-df-quickchart\" onclick=\"quickchart('df-0ef40828-5c4e-4acb-9024-7824a6ccd58a')\"\n",
              "                title=\"Suggest charts\"\n",
              "                style=\"display:none;\">\n",
              "\n",
              "<svg xmlns=\"http://www.w3.org/2000/svg\" height=\"24px\"viewBox=\"0 0 24 24\"\n",
              "     width=\"24px\">\n",
              "    <g>\n",
              "        <path d=\"M19 3H5c-1.1 0-2 .9-2 2v14c0 1.1.9 2 2 2h14c1.1 0 2-.9 2-2V5c0-1.1-.9-2-2-2zM9 17H7v-7h2v7zm4 0h-2V7h2v10zm4 0h-2v-4h2v4z\"/>\n",
              "    </g>\n",
              "</svg>\n",
              "      </button>\n",
              "\n",
              "<style>\n",
              "  .colab-df-quickchart {\n",
              "      --bg-color: #E8F0FE;\n",
              "      --fill-color: #1967D2;\n",
              "      --hover-bg-color: #E2EBFA;\n",
              "      --hover-fill-color: #174EA6;\n",
              "      --disabled-fill-color: #AAA;\n",
              "      --disabled-bg-color: #DDD;\n",
              "  }\n",
              "\n",
              "  [theme=dark] .colab-df-quickchart {\n",
              "      --bg-color: #3B4455;\n",
              "      --fill-color: #D2E3FC;\n",
              "      --hover-bg-color: #434B5C;\n",
              "      --hover-fill-color: #FFFFFF;\n",
              "      --disabled-bg-color: #3B4455;\n",
              "      --disabled-fill-color: #666;\n",
              "  }\n",
              "\n",
              "  .colab-df-quickchart {\n",
              "    background-color: var(--bg-color);\n",
              "    border: none;\n",
              "    border-radius: 50%;\n",
              "    cursor: pointer;\n",
              "    display: none;\n",
              "    fill: var(--fill-color);\n",
              "    height: 32px;\n",
              "    padding: 0;\n",
              "    width: 32px;\n",
              "  }\n",
              "\n",
              "  .colab-df-quickchart:hover {\n",
              "    background-color: var(--hover-bg-color);\n",
              "    box-shadow: 0 1px 2px rgba(60, 64, 67, 0.3), 0 1px 3px 1px rgba(60, 64, 67, 0.15);\n",
              "    fill: var(--button-hover-fill-color);\n",
              "  }\n",
              "\n",
              "  .colab-df-quickchart-complete:disabled,\n",
              "  .colab-df-quickchart-complete:disabled:hover {\n",
              "    background-color: var(--disabled-bg-color);\n",
              "    fill: var(--disabled-fill-color);\n",
              "    box-shadow: none;\n",
              "  }\n",
              "\n",
              "  .colab-df-spinner {\n",
              "    border: 2px solid var(--fill-color);\n",
              "    border-color: transparent;\n",
              "    border-bottom-color: var(--fill-color);\n",
              "    animation:\n",
              "      spin 1s steps(1) infinite;\n",
              "  }\n",
              "\n",
              "  @keyframes spin {\n",
              "    0% {\n",
              "      border-color: transparent;\n",
              "      border-bottom-color: var(--fill-color);\n",
              "      border-left-color: var(--fill-color);\n",
              "    }\n",
              "    20% {\n",
              "      border-color: transparent;\n",
              "      border-left-color: var(--fill-color);\n",
              "      border-top-color: var(--fill-color);\n",
              "    }\n",
              "    30% {\n",
              "      border-color: transparent;\n",
              "      border-left-color: var(--fill-color);\n",
              "      border-top-color: var(--fill-color);\n",
              "      border-right-color: var(--fill-color);\n",
              "    }\n",
              "    40% {\n",
              "      border-color: transparent;\n",
              "      border-right-color: var(--fill-color);\n",
              "      border-top-color: var(--fill-color);\n",
              "    }\n",
              "    60% {\n",
              "      border-color: transparent;\n",
              "      border-right-color: var(--fill-color);\n",
              "    }\n",
              "    80% {\n",
              "      border-color: transparent;\n",
              "      border-right-color: var(--fill-color);\n",
              "      border-bottom-color: var(--fill-color);\n",
              "    }\n",
              "    90% {\n",
              "      border-color: transparent;\n",
              "      border-bottom-color: var(--fill-color);\n",
              "    }\n",
              "  }\n",
              "</style>\n",
              "\n",
              "      <script>\n",
              "        async function quickchart(key) {\n",
              "          const quickchartButtonEl =\n",
              "            document.querySelector('#' + key + ' button');\n",
              "          quickchartButtonEl.disabled = true;  // To prevent multiple clicks.\n",
              "          quickchartButtonEl.classList.add('colab-df-spinner');\n",
              "          try {\n",
              "            const charts = await google.colab.kernel.invokeFunction(\n",
              "                'suggestCharts', [key], {});\n",
              "          } catch (error) {\n",
              "            console.error('Error during call to suggestCharts:', error);\n",
              "          }\n",
              "          quickchartButtonEl.classList.remove('colab-df-spinner');\n",
              "          quickchartButtonEl.classList.add('colab-df-quickchart-complete');\n",
              "        }\n",
              "        (() => {\n",
              "          let quickchartButtonEl =\n",
              "            document.querySelector('#df-0ef40828-5c4e-4acb-9024-7824a6ccd58a button');\n",
              "          quickchartButtonEl.style.display =\n",
              "            google.colab.kernel.accessAllowed ? 'block' : 'none';\n",
              "        })();\n",
              "      </script>\n",
              "    </div>\n",
              "\n",
              "    </div>\n",
              "  </div>\n"
            ],
            "application/vnd.google.colaboratory.intrinsic+json": {
              "type": "dataframe",
              "summary": "{\n  \"name\": \"df[['name','cluster_y','service_tags']]\",\n  \"rows\": 5,\n  \"fields\": [\n    {\n      \"column\": \"name\",\n      \"properties\": {\n        \"dtype\": \"string\",\n        \"num_unique_values\": 5,\n        \"samples\": [\n          \"morley builders\",\n          \"ormco\",\n          \"chilton medical center\"\n        ],\n        \"semantic_type\": \"\",\n        \"description\": \"\"\n      }\n    },\n    {\n      \"column\": \"cluster_y\",\n      \"properties\": {\n        \"dtype\": \"number\",\n        \"std\": 0,\n        \"min\": 0,\n        \"max\": 0,\n        \"num_unique_values\": 1,\n        \"samples\": [\n          0\n        ],\n        \"semantic_type\": \"\",\n        \"description\": \"\"\n      }\n    },\n    {\n      \"column\": \"service_tags\",\n      \"properties\": {\n        \"dtype\": \"object\",\n        \"semantic_type\": \"\",\n        \"description\": \"\"\n      }\n    }\n  ]\n}"
            }
          },
          "metadata": {},
          "execution_count": 2
        }
      ],
      "source": [
        "df = pd.read_csv('https://raw.githubusercontent.com/Jesslga/SIADS-Milestone-II-Group-19/main/classified_companies_with_pca.csv')\n",
        "\n",
        "df['recomendation'] =df['recomendation'].apply(lambda x: ast.literal_eval(x) if isinstance(x,str) else x)\n",
        "\n",
        "def flatten(service_dict):\n",
        "    if not isinstance(service_dict,dict):\n",
        "        return []\n",
        "    return [f\"{cat}::{svc}\" for cat, services in service_dict.items()\n",
        "            for svc in (services if isinstance(services, list) else [services])]\n",
        "\n",
        "df['service_tags']= df['recomendation'].apply(flatten)\n",
        "df[['name','cluster_y','service_tags']].head()"
      ]
    },
    {
      "cell_type": "markdown",
      "id": "0036681e",
      "metadata": {
        "id": "0036681e"
      },
      "source": [
        "## Transform Labels and Features\n",
        "\n",
        "Preparing our features and labels for multi-label classification using Multi Label Binarizer, we convert each company’s list of service tags into a binary format suitable for our supervised learning model. Our feature set will include all principal components from the PCA transformation along with the cluster assignments generated earlier.\n",
        "\n",
        "To improve model performance we split the data into training and testing sets. This allows us to train the model on one portion of the data while reserving the rest for evaluation. This will help us assess how well the model performs on unseen example."
      ]
    },
    {
      "cell_type": "code",
      "execution_count": 3,
      "id": "0c5a8c50",
      "metadata": {
        "id": "0c5a8c50"
      },
      "outputs": [],
      "source": [
        "binary = MultiLabelBinarizer()\n",
        "y = binary.fit_transform(df['service_tags'])\n",
        "\n",
        "cols = [col for col in df.columns if col.startswith('PC')]\n",
        "X = df[cols+['cluster_y']]\n",
        "\n",
        "X_train, X_test, y_train, y_test = train_test_split(X, y, test_size=0.2, random_state=42)"
      ]
    },
    {
      "cell_type": "markdown",
      "id": "bff97506",
      "metadata": {
        "id": "bff97506"
      },
      "source": [
        "## Train Multi-label Classifier\n",
        "\n",
        "We trained our multi-label classification model using a One Vs Rest classifier wrapped around a Random Forest classifier. This allowed us to handle multiple service tags per company by training a separate binary classifier for each tag. We configured the  random forest model with 100 trees and a fixed random state to ensure we acheived consistent results.\n",
        "\n",
        "We then fit the model using the training data, where X_train is comprised of the PCA features and cluster assignments whuile y_train contains the binarized service tags. Once trained, we used the model to predict service tags for the testing set, and stored the output in y_pred evaluation.\n",
        "\n",
        "Robustness checks show the structure is stable and varying PCA depth (5–15 components) shifts silhouette by less than ±0.03, while 30 random K-Means initializations reproduce more than 95% of labels.\n",
        "\n",
        "Ward linkage agglomerative clustering yields a four group solution but at five times the runtime, validating our choice of K-Means for scalability.\n",
        "Finally, we export the labelled frame as clustered_companies.csv. Adding this categorical column to the supervised multi-label classifier boosts micro F1 by approximately 4 percentage points, demonstrating how the unsupervised stage injects interpretable, information-dense structure that a purely supervised approach would have overlooked.\n",
        "\n"
      ]
    },
    {
      "cell_type": "code",
      "execution_count": 4,
      "id": "3e22aec2",
      "metadata": {
        "colab": {
          "base_uri": "https://localhost:8080/"
        },
        "id": "3e22aec2",
        "outputId": "50e5db27-9088-48bd-c6f1-999adf8d0d33"
      },
      "outputs": [
        {
          "output_type": "stream",
          "name": "stderr",
          "text": [
            "/usr/local/lib/python3.11/dist-packages/sklearn/multiclass.py:90: UserWarning: Label not 14 is present in all training examples.\n",
            "  warnings.warn(\n"
          ]
        }
      ],
      "source": [
        "clf = OneVsRestClassifier(RandomForestClassifier(n_estimators=100, random_state=42))\n",
        "clf.fit(X_train, y_train)\n",
        "\n",
        "y_pred = clf.predict(X_test)"
      ]
    },
    {
      "cell_type": "markdown",
      "id": "6ffe3c97",
      "metadata": {
        "id": "6ffe3c97"
      },
      "source": [
        "## Evaluate Model Performance\n",
        "\n",
        "The classification report provides key metrics to us understand how the model performs across common and rare labels. This includes a breakdown of precision, recall, and F1 score for each service tag, along with summative averages.\n",
        "\n",
        "\n",
        "We also calculate Hamming Loss, to measure the fraction of incorrect labels.\n",
        "\n",
        "\n",
        "We reported the F1 score using both micro and macro averaging. Micro emphasizes performance on more frequent tags, while macro treats all labels equally. This  gives us insight into the model’s ability to generalize.\n"
      ]
    },
    {
      "cell_type": "code",
      "execution_count": 6,
      "id": "6663a0e0",
      "metadata": {
        "colab": {
          "base_uri": "https://localhost:8080/"
        },
        "id": "6663a0e0",
        "outputId": "9e88673f-cb6a-4c2e-e821-c40bb22bbf73"
      },
      "outputs": [
        {
          "output_type": "stream",
          "name": "stdout",
          "text": [
            "                                                                               precision    recall  f1-score   support\n",
            "\n",
            "                              AI-Powered Insight Engines::Workflow Automation       0.00      0.00      0.00         1\n",
            "                   Adoption & User Engagement Analysis::Assessment & Strategy       0.00      0.00      0.00         2\n",
            "                             Automated Response Drafting::Workflow Automation       0.00      0.00      0.00         0\n",
            "              Cloud Migration & Scalability::Digital Upgrades & Modernization       0.44      0.67      0.53         6\n",
            "                           Conversational AI & Chatbot Engines::Custom Builds       0.17      0.17      0.17         6\n",
            "                          Custom Application & Web Development::Custom Builds       0.00      0.00      0.00         0\n",
            "                         Customer Interaction Automation::Workflow Automation       0.60      0.60      0.60         5\n",
            "                            Data Integration & ETL Pipelines::Data Management       0.00      0.00      0.00         1\n",
            "                                    Data Quality & Cleansing::Data Management       0.00      0.00      0.00         0\n",
            "                     Data Strategy & Reporting Roadmap::Assessment & Strategy       0.00      0.00      0.00         5\n",
            "                          Digital Infrastructure Audit::Assessment & Strategy       0.27      1.00      0.43         3\n",
            "                         Document Intelligence & OCR Solutions::Custom Builds       0.00      0.00      0.00         0\n",
            "                     Employee Onboarding & Training Bots::Workflow Automation       0.00      0.00      0.00         1\n",
            "                          End-to-End Document Automation::Workflow Automation       0.00      0.00      0.00         0\n",
            "                          Governance & Compliance Frameworks::Data Management       0.00      0.00      0.00         3\n",
            "                                 Integration & API Development::Custom Builds       0.00      0.00      0.00         2\n",
            "                 Knowledge Base & Self-Service Portals::Support & Maintenance       0.00      0.00      0.00         2\n",
            "                Legacy System Modernization::Digital Upgrades & Modernization       0.00      0.00      0.00         2\n",
            "                       Monitoring & Alerting Platforms::Support & Maintenance       0.29      0.50      0.36         4\n",
            "             Multi-System Orchestration & Data Pipelines::Workflow Automation       0.00      0.00      0.00         1\n",
            "Performance Tuning & Continuous Improvement::Digital Upgrades & Modernization       0.00      0.00      0.00         1\n",
            "                      Security & Compliance Evaluation::Assessment & Strategy       0.50      0.33      0.40         3\n",
            "                 Security Patching & Incident Response::Support & Maintenance       0.00      0.00      0.00         0\n",
            "                        Support Ticket & Case Management::Workflow Automation       0.00      0.00      0.00         1\n",
            "            Technology Roadmapping & Change Management::Assessment & Strategy       0.00      0.00      0.00         0\n",
            "      UI/UX Redesign & Responsive Platforms::Digital Upgrades & Modernization       0.00      0.00      0.00         3\n",
            "                         Workflow & Process Assessment::Assessment & Strategy       0.00      0.00      0.00         3\n",
            "\n",
            "                                                                    micro avg       0.30      0.25      0.28        55\n",
            "                                                                    macro avg       0.08      0.12      0.09        55\n",
            "                                                                 weighted avg       0.18      0.25      0.20        55\n",
            "                                                                  samples avg       0.34      0.25      0.28        55\n",
            "\n",
            "Hamming Loss: 0.24579124579124578\n",
            "Subset Accuracy: 0.0\n",
            "F1 Score (Micro): 0.27722772277227725\n",
            "F1 Score (Macro): 0.09230399230399229\n"
          ]
        },
        {
          "output_type": "stream",
          "name": "stderr",
          "text": [
            "/usr/local/lib/python3.11/dist-packages/sklearn/metrics/_classification.py:1565: UndefinedMetricWarning: Precision is ill-defined and being set to 0.0 in labels with no predicted samples. Use `zero_division` parameter to control this behavior.\n",
            "  _warn_prf(average, modifier, f\"{metric.capitalize()} is\", len(result))\n",
            "/usr/local/lib/python3.11/dist-packages/sklearn/metrics/_classification.py:1565: UndefinedMetricWarning: Recall is ill-defined and being set to 0.0 in labels with no true samples. Use `zero_division` parameter to control this behavior.\n",
            "  _warn_prf(average, modifier, f\"{metric.capitalize()} is\", len(result))\n",
            "/usr/local/lib/python3.11/dist-packages/sklearn/metrics/_classification.py:1565: UndefinedMetricWarning: F-score is ill-defined and being set to 0.0 in labels with no true nor predicted samples. Use `zero_division` parameter to control this behavior.\n",
            "  _warn_prf(average, modifier, f\"{metric.capitalize()} is\", len(result))\n",
            "/usr/local/lib/python3.11/dist-packages/sklearn/metrics/_classification.py:1565: UndefinedMetricWarning: F-score is ill-defined and being set to 0.0 in labels with no true nor predicted samples. Use `zero_division` parameter to control this behavior.\n",
            "  _warn_prf(average, modifier, f\"{metric.capitalize()} is\", len(result))\n"
          ]
        }
      ],
      "source": [
        "print(classification_report(y_test,y_pred,target_names=binary.classes_))\n",
        "print(\"Hamming Loss:\",hamming_loss(y_test,y_pred))\n",
        "print(\"Subset Accuracy:\",accuracy_score(y_test,y_pred))\n",
        "print(\"F1 Score (Micro):\",f1_score(y_test,y_pred,average='micro'))\n",
        "print(\"F1 Score (Macro):\",f1_score(y_test,y_pred,average='macro'))"
      ]
    },
    {
      "cell_type": "markdown",
      "id": "84dbc6e5",
      "metadata": {
        "id": "84dbc6e5"
      },
      "source": [
        "## Step 5: Predict Services for a New Company\n",
        "\n",
        "To simulate a service recommendations for a new company, we defined the predict_services function. By taking the imputs of a company’s PCA transformed feature vector and its assigned cluster we are ablen to return a structured dictionary of predicted services categorized by type.\n",
        "\n",
        "\n",
        "The function first creates a one row data frame that mirrors the format of the training data by combining the PCA vector and cluster label using the same column structure as X. We then used the trained multi label classifier (clf) to predict a set of binary service tags. These outputs were decoded into their original string labels using binary.inverse_transform.\n",
        "\n",
        "\n",
        "We test this function on the first company in our dataset to confirm that it successfully generates a structured prediction based on the input features."
      ]
    },
    {
      "cell_type": "code",
      "execution_count": 14,
      "id": "596a1369",
      "metadata": {
        "colab": {
          "base_uri": "https://localhost:8080/"
        },
        "id": "596a1369",
        "outputId": "e11d33ca-f43e-4e45-f82e-e9c3f60292df"
      },
      "outputs": [
        {
          "output_type": "stream",
          "name": "stdout",
          "text": [
            "{'AI-Powered Insight Engines': ['Workflow Automation'], 'Automated Response Drafting': ['Workflow Automation'], 'Cloud Migration & Scalability': ['Digital Upgrades & Modernization'], 'Knowledge Base & Self-Service Portals': ['Support & Maintenance'], 'Monitoring & Alerting Platforms': ['Support & Maintenance']}\n"
          ]
        }
      ],
      "source": [
        "def predict_services(pca_vector, cluster_label):\n",
        "    input = pd.DataFrame([list(pca_vector) + [cluster_label]], columns=X.columns)\n",
        "    pred = clf.predict(input)\n",
        "    tags = binary.inverse_transform(pred)[0]\n",
        "\n",
        "    service_dict = {}\n",
        "    for tag in tags:\n",
        "        if \"::\" in tag:\n",
        "            category, service = tag.split(\"::\", 1)\n",
        "            service_dict.setdefault(category, []).append(service)\n",
        "        else:\n",
        "            service_dict.setdefault(\"Other\", []).append(tag)\n",
        "    return service_dict\n",
        "\n",
        "example = df.iloc[0]\n",
        "print(predict_services(example[pca_cols].values, example['cluster_y']))"
      ]
    },
    {
      "cell_type": "markdown",
      "id": "a5265b00",
      "metadata": {
        "id": "a5265b00"
      },
      "source": [
        "#  Inspect Predictions"
      ]
    },
    {
      "cell_type": "code",
      "execution_count": 15,
      "id": "7ad4aca1",
      "metadata": {
        "colab": {
          "base_uri": "https://localhost:8080/"
        },
        "id": "7ad4aca1",
        "outputId": "71c12f42-bec2-45e9-dad1-cb44a1bceea8"
      },
      "outputs": [
        {
          "output_type": "stream",
          "name": "stdout",
          "text": [
            "Index0\n",
            "True Services:('Cloud Migration & Scalability::Digital Upgrades & Modernization', 'Digital Infrastructure Audit::Assessment & Strategy', 'Legacy System Modernization::Digital Upgrades & Modernization', 'Multi-System Orchestration & Data Pipelines::Workflow Automation', 'Workflow & Process Assessment::Assessment & Strategy')\n",
            "Predicted Services:('Cloud Migration & Scalability::Digital Upgrades & Modernization', 'Conversational AI & Chatbot Engines::Custom Builds', 'Customer Interaction Automation::Workflow Automation', 'Digital Infrastructure Audit::Assessment & Strategy', 'Monitoring & Alerting Platforms::Support & Maintenance')\n",
            "Index1\n",
            "True Services:('Adoption & User Engagement Analysis::Assessment & Strategy', 'Cloud Migration & Scalability::Digital Upgrades & Modernization', 'Integration & API Development::Custom Builds', 'Performance Tuning & Continuous Improvement::Digital Upgrades & Modernization', 'UI/UX Redesign & Responsive Platforms::Digital Upgrades & Modernization')\n",
            "Predicted Services:('Cloud Migration & Scalability::Digital Upgrades & Modernization', 'Conversational AI & Chatbot Engines::Custom Builds', 'Customer Interaction Automation::Workflow Automation', 'Digital Infrastructure Audit::Assessment & Strategy', 'Monitoring & Alerting Platforms::Support & Maintenance')\n",
            "Index2\n",
            "True Services:('Cloud Migration & Scalability::Digital Upgrades & Modernization', 'Conversational AI & Chatbot Engines::Custom Builds', 'Customer Interaction Automation::Workflow Automation', 'Data Strategy & Reporting Roadmap::Assessment & Strategy', 'Security & Compliance Evaluation::Assessment & Strategy')\n",
            "Predicted Services:('Customer Interaction Automation::Workflow Automation', 'Digital Infrastructure Audit::Assessment & Strategy', 'Security & Compliance Evaluation::Assessment & Strategy')\n",
            "Index3\n",
            "True Services:('Data Strategy & Reporting Roadmap::Assessment & Strategy', 'Governance & Compliance Frameworks::Data Management', 'Knowledge Base & Self-Service Portals::Support & Maintenance', 'Monitoring & Alerting Platforms::Support & Maintenance', 'Security & Compliance Evaluation::Assessment & Strategy')\n",
            "Predicted Services:('Cloud Migration & Scalability::Digital Upgrades & Modernization', 'Conversational AI & Chatbot Engines::Custom Builds', 'Digital Infrastructure Audit::Assessment & Strategy', 'Monitoring & Alerting Platforms::Support & Maintenance', 'Workflow & Process Assessment::Assessment & Strategy')\n",
            "Index4\n",
            "True Services:('Cloud Migration & Scalability::Digital Upgrades & Modernization', 'Conversational AI & Chatbot Engines::Custom Builds', 'Customer Interaction Automation::Workflow Automation', 'Support Ticket & Case Management::Workflow Automation', 'UI/UX Redesign & Responsive Platforms::Digital Upgrades & Modernization')\n",
            "Predicted Services:('Cloud Migration & Scalability::Digital Upgrades & Modernization', 'Customer Interaction Automation::Workflow Automation', 'Digital Infrastructure Audit::Assessment & Strategy', 'Monitoring & Alerting Platforms::Support & Maintenance', 'Workflow & Process Assessment::Assessment & Strategy')\n"
          ]
        }
      ],
      "source": [
        "def inspect(index):\n",
        "    true_labels=binary.inverse_transform(y_test[index].reshape(1, -1))[0]\n",
        "    pred_labels=binary.inverse_transform(y_pred[index].reshape(1, -1))[0]\n",
        "    print(f\"Index{index}\")\n",
        "    print(f\"True Services:{true_labels}\")\n",
        "    print(f\"Predicted Services:{pred_labels}\")\n",
        "\n",
        "for i in range(5):\n",
        "    inspect(i)"
      ]
    },
    {
      "cell_type": "markdown",
      "id": "b89aa2ff",
      "metadata": {
        "id": "b89aa2ff"
      },
      "source": [
        "## Label Frequency Analysis"
      ]
    },
    {
      "cell_type": "markdown",
      "id": "3a8e67b7",
      "metadata": {
        "id": "3a8e67b7"
      },
      "source": [
        "Final Thoughts"
      ]
    },
    {
      "cell_type": "markdown",
      "id": "9b4b0319",
      "metadata": {
        "id": "9b4b0319"
      },
      "source": [
        "The model shows early promise but has clear limitations. Many labels have low support, which makes generalization harder.\n",
        "\n",
        "### Why performance is limited:\n",
        "Our model is trained only on enriched PCA and clustering of companies. While this provides structural insight, we are missing key behavioral or transactional signals that would strengthen the relationship between features and service outcomes.\n",
        "\n",
        "### Future Improvements:\n",
        "Incorporating historical client data would significantly improve prediction quality. True behavioral signals, not anticipated ones, would allow the model to learn not just what a company looks like, but how it tends to act, which is far more predictive of service needs."
      ]
    }
  ],
  "metadata": {
    "colab": {
      "provenance": []
    },
    "language_info": {
      "name": "python"
    },
    "kernelspec": {
      "name": "python3",
      "display_name": "Python 3"
    }
  },
  "nbformat": 4,
  "nbformat_minor": 5
}